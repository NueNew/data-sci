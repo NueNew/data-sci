{
  "nbformat": 4,
  "nbformat_minor": 0,
  "metadata": {
    "colab": {
      "name": "Part III: Getting to Know Pandas",
      "provenance": []
    },
    "kernelspec": {
      "name": "python3",
      "display_name": "Python 3"
    }
  },
  "cells": [
    {
      "cell_type": "code",
      "metadata": {
        "id": "NeFotG4NqUrX",
        "colab_type": "code",
        "colab": {}
      },
      "source": [
        "import pandas as pd\n",
        "import numpy as np\n",
        "import random"
      ],
      "execution_count": 0,
      "outputs": []
    },
    {
      "cell_type": "code",
      "metadata": {
        "id": "PI4dvk5mqb6Z",
        "colab_type": "code",
        "colab": {
          "base_uri": "https://localhost:8080/",
          "height": 85
        },
        "outputId": "f016e18e-d61d-497c-8c5f-0a9a237692e5"
      },
      "source": [
        "pd.Series([random.randint(1,5) for i in range(3)],index=[1,2,3])"
      ],
      "execution_count": 2,
      "outputs": [
        {
          "output_type": "execute_result",
          "data": {
            "text/plain": [
              "1    4\n",
              "2    2\n",
              "3    1\n",
              "dtype: int64"
            ]
          },
          "metadata": {
            "tags": []
          },
          "execution_count": 2
        }
      ]
    },
    {
      "cell_type": "code",
      "metadata": {
        "id": "piq0NFHXqjCK",
        "colab_type": "code",
        "colab": {
          "base_uri": "https://localhost:8080/",
          "height": 283
        },
        "outputId": "05039461-f3fd-4fa2-e9ec-f54b036217bd"
      },
      "source": [
        "import pandas as pd\n",
        "import matplotlib.pyplot as plt\n",
        "token = ['hello','chula','July','regis','exam','chula','regis','regis','regis','hello','hi','text','word',9,7]\n",
        "s = pd.Series(token)\n",
        "s.value_counts()[:5].plot(kind='bar',color=['b'])\n",
        "plt.show() "
      ],
      "execution_count": 3,
      "outputs": [
        {
          "output_type": "display_data",
          "data": {
            "image/png": "[encoded data removed]",
            "text/plain": [
              "<Figure size 432x288 with 1 Axes>"
            ]
          },
          "metadata": {
            "tags": []
          }
        }
      ]
    },
    {
      "cell_type": "code",
      "metadata": {
        "id": "YxaTFi-Nqr9K",
        "colab_type": "code",
        "colab": {
          "base_uri": "https://localhost:8080/",
          "height": 51
        },
        "outputId": "3451f8cf-0989-4350-bb71-7ed8d39d8022"
      },
      "source": [
        "import pandas as pd\n",
        "import matplotlib.pyplot as plt\n",
        "data = {'จังหวัด': ['กทม.', 'นนทบุรี', 'เชียงใหม่', 'เชียงใหม่', 'เชียงราย', 'เชียงใหม่', 'ชุมพร', 'ขอนแก่น', 'ชุมพร', 'แม่ฮ่องสอน'],\n",
        "'อายุ': [50, 15, 20, 35, 10, 40, 16, 21, 45, 20],\n",
        "'เพศ': ['ชาย', 'หญิง', 'หญิง', 'หญิง', 'ชาย', 'ชาย', 'หญิง', 'หญิง', 'ชาย', 'ชาย'],\n",
        "'รถผู้บาดเจ็บ': ['รถเก๋ง', 'กระบะ', 'จักรยานยนต์', 'จักรยานยนต์', 'จักรยานยนต์', 'กระบะ', 'รถเก๋ง', 'กระบะ', 'รถเก๋ง', 'จักรยานยนต์']}\n",
        "\n",
        "\n",
        "df = pd.DataFrame(data)\n",
        "print(df.columns)\n"
      ],
      "execution_count": 5,
      "outputs": [
        {
          "output_type": "stream",
          "text": [
            "Index(['จังหวัด', 'อายุ', 'เพศ', 'รถผู้บาดเจ็บ'], dtype='object')\n",
            "{'จักรยานยนต์', 'รถเก๋ง', 'กระบะ'}\n"
          ],
          "name": "stdout"
        }
      ]
    },
    {
      "cell_type": "code",
      "metadata": {
        "id": "txAVkCk2rI8b",
        "colab_type": "code",
        "colab": {
          "base_uri": "https://localhost:8080/",
          "height": 34
        },
        "outputId": "7201b82a-3c88-4638-83a1-e8782ad40e57"
      },
      "source": [
        "print(set(df['รถผู้บาดเจ็บ']))"
      ],
      "execution_count": 6,
      "outputs": [
        {
          "output_type": "stream",
          "text": [
            "{'จักรยานยนต์', 'รถเก๋ง', 'กระบะ'}\n"
          ],
          "name": "stdout"
        }
      ]
    },
    {
      "cell_type": "code",
      "metadata": {
        "id": "KUmcxNckrL0b",
        "colab_type": "code",
        "colab": {
          "base_uri": "https://localhost:8080/",
          "height": 322
        },
        "outputId": "529df5ee-dae4-4b1a-f303-671e9b786179"
      },
      "source": [
        "data = df[df['รถผู้บาดเจ็บ'] == 'จักรยานยนต์']['อายุ'].value_counts()\n",
        "ax = data.plot(kind='bar',color=['b'],figsize=(5,5))\n",
        "plt.show() "
      ],
      "execution_count": 7,
      "outputs": [
        {
          "output_type": "display_data",
          "data": {
            "image/png": "[encoded data removed]",
            "text/plain": [
              "<Figure size 360x360 with 1 Axes>"
            ]
          },
          "metadata": {
            "tags": []
          }
        }
      ]
    }
  ]
}